{
 "cells": [
  {
   "cell_type": "markdown",
   "metadata": {
    "id": "HWBmrTpCwYaP"
   },
   "source": [
    "## Tugas 3 Data Mining dan Kecerdasan Bisnis\n",
    "Nama: <br>\n",
    "Almas Fauzia Wibawa (17/409427/PA/17734) <br>\n",
    "Bryan Dwison (17/409430/PA/17737) <br>\n",
    "Fajar Abdul Malik (17/409432/PA/17739) <br>\n",
    "Faqih Ethana Prabandaru (17/409433/PA/17740)"
   ]
  },
  {
   "cell_type": "markdown",
   "metadata": {
    "id": "4sOLt3SNDAL6"
   },
   "source": [
    "### Data "
   ]
  },
  {
   "cell_type": "code",
   "execution_count": 1,
   "metadata": {
    "colab": {
     "base_uri": "https://localhost:8080/",
     "height": 215
    },
    "id": "dY-V9f37KImC",
    "outputId": "80d56b20-fefe-49ba-b822-d738d9ee62d2"
   },
   "outputs": [
    {
     "data": {
      "text/html": [
       "<div>\n",
       "<style scoped>\n",
       "    .dataframe tbody tr th:only-of-type {\n",
       "        vertical-align: middle;\n",
       "    }\n",
       "\n",
       "    .dataframe tbody tr th {\n",
       "        vertical-align: top;\n",
       "    }\n",
       "\n",
       "    .dataframe thead th {\n",
       "        text-align: right;\n",
       "    }\n",
       "</style>\n",
       "<table border=\"1\" class=\"dataframe\">\n",
       "  <thead>\n",
       "    <tr style=\"text-align: right;\">\n",
       "      <th></th>\n",
       "      <th>Id</th>\n",
       "      <th>Purchase</th>\n",
       "      <th>WeekofPurchase</th>\n",
       "      <th>StoreID</th>\n",
       "      <th>PriceCH</th>\n",
       "      <th>PriceMM</th>\n",
       "      <th>DiscCH</th>\n",
       "      <th>DiscMM</th>\n",
       "      <th>SpecialCH</th>\n",
       "      <th>SpecialMM</th>\n",
       "      <th>LoyalCH</th>\n",
       "      <th>SalePriceMM</th>\n",
       "      <th>SalePriceCH</th>\n",
       "      <th>PriceDiff</th>\n",
       "      <th>Store7</th>\n",
       "      <th>PctDiscMM</th>\n",
       "      <th>PctDiscCH</th>\n",
       "      <th>ListPriceDiff</th>\n",
       "      <th>STORE</th>\n",
       "    </tr>\n",
       "  </thead>\n",
       "  <tbody>\n",
       "    <tr>\n",
       "      <th>0</th>\n",
       "      <td>1</td>\n",
       "      <td>CH</td>\n",
       "      <td>237</td>\n",
       "      <td>1</td>\n",
       "      <td>1.75</td>\n",
       "      <td>1.99</td>\n",
       "      <td>0.00</td>\n",
       "      <td>0.0</td>\n",
       "      <td>0</td>\n",
       "      <td>0</td>\n",
       "      <td>0.500000</td>\n",
       "      <td>1.99</td>\n",
       "      <td>1.75</td>\n",
       "      <td>0.24</td>\n",
       "      <td>No</td>\n",
       "      <td>0.000000</td>\n",
       "      <td>0.000000</td>\n",
       "      <td>0.24</td>\n",
       "      <td>1</td>\n",
       "    </tr>\n",
       "    <tr>\n",
       "      <th>1</th>\n",
       "      <td>2</td>\n",
       "      <td>CH</td>\n",
       "      <td>239</td>\n",
       "      <td>1</td>\n",
       "      <td>1.75</td>\n",
       "      <td>1.99</td>\n",
       "      <td>0.00</td>\n",
       "      <td>0.3</td>\n",
       "      <td>0</td>\n",
       "      <td>1</td>\n",
       "      <td>0.600000</td>\n",
       "      <td>1.69</td>\n",
       "      <td>1.75</td>\n",
       "      <td>-0.06</td>\n",
       "      <td>No</td>\n",
       "      <td>0.150754</td>\n",
       "      <td>0.000000</td>\n",
       "      <td>0.24</td>\n",
       "      <td>1</td>\n",
       "    </tr>\n",
       "    <tr>\n",
       "      <th>2</th>\n",
       "      <td>3</td>\n",
       "      <td>CH</td>\n",
       "      <td>245</td>\n",
       "      <td>1</td>\n",
       "      <td>1.86</td>\n",
       "      <td>2.09</td>\n",
       "      <td>0.17</td>\n",
       "      <td>0.0</td>\n",
       "      <td>0</td>\n",
       "      <td>0</td>\n",
       "      <td>0.680000</td>\n",
       "      <td>2.09</td>\n",
       "      <td>1.69</td>\n",
       "      <td>0.40</td>\n",
       "      <td>No</td>\n",
       "      <td>0.000000</td>\n",
       "      <td>0.091398</td>\n",
       "      <td>0.23</td>\n",
       "      <td>1</td>\n",
       "    </tr>\n",
       "    <tr>\n",
       "      <th>3</th>\n",
       "      <td>4</td>\n",
       "      <td>MM</td>\n",
       "      <td>227</td>\n",
       "      <td>1</td>\n",
       "      <td>1.69</td>\n",
       "      <td>1.69</td>\n",
       "      <td>0.00</td>\n",
       "      <td>0.0</td>\n",
       "      <td>0</td>\n",
       "      <td>0</td>\n",
       "      <td>0.400000</td>\n",
       "      <td>1.69</td>\n",
       "      <td>1.69</td>\n",
       "      <td>0.00</td>\n",
       "      <td>No</td>\n",
       "      <td>0.000000</td>\n",
       "      <td>0.000000</td>\n",
       "      <td>0.00</td>\n",
       "      <td>1</td>\n",
       "    </tr>\n",
       "    <tr>\n",
       "      <th>4</th>\n",
       "      <td>5</td>\n",
       "      <td>CH</td>\n",
       "      <td>228</td>\n",
       "      <td>7</td>\n",
       "      <td>1.69</td>\n",
       "      <td>1.69</td>\n",
       "      <td>0.00</td>\n",
       "      <td>0.0</td>\n",
       "      <td>0</td>\n",
       "      <td>0</td>\n",
       "      <td>0.956535</td>\n",
       "      <td>1.69</td>\n",
       "      <td>1.69</td>\n",
       "      <td>0.00</td>\n",
       "      <td>Yes</td>\n",
       "      <td>0.000000</td>\n",
       "      <td>0.000000</td>\n",
       "      <td>0.00</td>\n",
       "      <td>0</td>\n",
       "    </tr>\n",
       "  </tbody>\n",
       "</table>\n",
       "</div>"
      ],
      "text/plain": [
       "   Id Purchase  WeekofPurchase  ...  PctDiscCH  ListPriceDiff  STORE\n",
       "0   1       CH             237  ...   0.000000           0.24      1\n",
       "1   2       CH             239  ...   0.000000           0.24      1\n",
       "2   3       CH             245  ...   0.091398           0.23      1\n",
       "3   4       MM             227  ...   0.000000           0.00      1\n",
       "4   5       CH             228  ...   0.000000           0.00      0\n",
       "\n",
       "[5 rows x 19 columns]"
      ]
     },
     "execution_count": 1,
     "metadata": {
      "tags": []
     },
     "output_type": "execute_result"
    }
   ],
   "source": [
    "import pandas as pd\n",
    "\n",
    "juice = pd.read_csv('juice.csv')\n",
    "juice.head()"
   ]
  },
  {
   "cell_type": "code",
   "execution_count": 2,
   "metadata": {
    "colab": {
     "base_uri": "https://localhost:8080/",
     "height": 383
    },
    "id": "y0jcvJifKbnK",
    "outputId": "49ef2e3a-4797-4c05-8a9c-5e15b5bdb3b6"
   },
   "outputs": [
    {
     "name": "stderr",
     "output_type": "stream",
     "text": [
      "/usr/local/lib/python3.6/dist-packages/ipykernel_launcher.py:8: SettingWithCopyWarning: \n",
      "A value is trying to be set on a copy of a slice from a DataFrame\n",
      "\n",
      "See the caveats in the documentation: https://pandas.pydata.org/pandas-docs/stable/user_guide/indexing.html#returning-a-view-versus-a-copy\n",
      "  \n",
      "/usr/local/lib/python3.6/dist-packages/ipykernel_launcher.py:6: SettingWithCopyWarning: \n",
      "A value is trying to be set on a copy of a slice from a DataFrame\n",
      "\n",
      "See the caveats in the documentation: https://pandas.pydata.org/pandas-docs/stable/user_guide/indexing.html#returning-a-view-versus-a-copy\n",
      "  \n"
     ]
    },
    {
     "data": {
      "text/html": [
       "<div>\n",
       "<style scoped>\n",
       "    .dataframe tbody tr th:only-of-type {\n",
       "        vertical-align: middle;\n",
       "    }\n",
       "\n",
       "    .dataframe tbody tr th {\n",
       "        vertical-align: top;\n",
       "    }\n",
       "\n",
       "    .dataframe thead th {\n",
       "        text-align: right;\n",
       "    }\n",
       "</style>\n",
       "<table border=\"1\" class=\"dataframe\">\n",
       "  <thead>\n",
       "    <tr style=\"text-align: right;\">\n",
       "      <th></th>\n",
       "      <th>WeekofPurchase</th>\n",
       "      <th>StoreID</th>\n",
       "      <th>PriceCH</th>\n",
       "      <th>PriceMM</th>\n",
       "      <th>DiscCH</th>\n",
       "      <th>DiscMM</th>\n",
       "      <th>SpecialCH</th>\n",
       "      <th>SpecialMM</th>\n",
       "      <th>LoyalCH</th>\n",
       "      <th>SalePriceMM</th>\n",
       "      <th>SalePriceCH</th>\n",
       "      <th>PriceDiff</th>\n",
       "      <th>Store7</th>\n",
       "      <th>PctDiscMM</th>\n",
       "      <th>PctDiscCH</th>\n",
       "      <th>ListPriceDiff</th>\n",
       "      <th>STORE</th>\n",
       "    </tr>\n",
       "  </thead>\n",
       "  <tbody>\n",
       "    <tr>\n",
       "      <th>0</th>\n",
       "      <td>237</td>\n",
       "      <td>1</td>\n",
       "      <td>1.75</td>\n",
       "      <td>1.99</td>\n",
       "      <td>0.00</td>\n",
       "      <td>0.0</td>\n",
       "      <td>0</td>\n",
       "      <td>0</td>\n",
       "      <td>0.500000</td>\n",
       "      <td>1.99</td>\n",
       "      <td>1.75</td>\n",
       "      <td>0.24</td>\n",
       "      <td>0</td>\n",
       "      <td>0.000000</td>\n",
       "      <td>0.000000</td>\n",
       "      <td>0.24</td>\n",
       "      <td>1</td>\n",
       "    </tr>\n",
       "    <tr>\n",
       "      <th>1</th>\n",
       "      <td>239</td>\n",
       "      <td>1</td>\n",
       "      <td>1.75</td>\n",
       "      <td>1.99</td>\n",
       "      <td>0.00</td>\n",
       "      <td>0.3</td>\n",
       "      <td>0</td>\n",
       "      <td>1</td>\n",
       "      <td>0.600000</td>\n",
       "      <td>1.69</td>\n",
       "      <td>1.75</td>\n",
       "      <td>-0.06</td>\n",
       "      <td>0</td>\n",
       "      <td>0.150754</td>\n",
       "      <td>0.000000</td>\n",
       "      <td>0.24</td>\n",
       "      <td>1</td>\n",
       "    </tr>\n",
       "    <tr>\n",
       "      <th>2</th>\n",
       "      <td>245</td>\n",
       "      <td>1</td>\n",
       "      <td>1.86</td>\n",
       "      <td>2.09</td>\n",
       "      <td>0.17</td>\n",
       "      <td>0.0</td>\n",
       "      <td>0</td>\n",
       "      <td>0</td>\n",
       "      <td>0.680000</td>\n",
       "      <td>2.09</td>\n",
       "      <td>1.69</td>\n",
       "      <td>0.40</td>\n",
       "      <td>0</td>\n",
       "      <td>0.000000</td>\n",
       "      <td>0.091398</td>\n",
       "      <td>0.23</td>\n",
       "      <td>1</td>\n",
       "    </tr>\n",
       "    <tr>\n",
       "      <th>3</th>\n",
       "      <td>227</td>\n",
       "      <td>1</td>\n",
       "      <td>1.69</td>\n",
       "      <td>1.69</td>\n",
       "      <td>0.00</td>\n",
       "      <td>0.0</td>\n",
       "      <td>0</td>\n",
       "      <td>0</td>\n",
       "      <td>0.400000</td>\n",
       "      <td>1.69</td>\n",
       "      <td>1.69</td>\n",
       "      <td>0.00</td>\n",
       "      <td>0</td>\n",
       "      <td>0.000000</td>\n",
       "      <td>0.000000</td>\n",
       "      <td>0.00</td>\n",
       "      <td>1</td>\n",
       "    </tr>\n",
       "    <tr>\n",
       "      <th>4</th>\n",
       "      <td>228</td>\n",
       "      <td>7</td>\n",
       "      <td>1.69</td>\n",
       "      <td>1.69</td>\n",
       "      <td>0.00</td>\n",
       "      <td>0.0</td>\n",
       "      <td>0</td>\n",
       "      <td>0</td>\n",
       "      <td>0.956535</td>\n",
       "      <td>1.69</td>\n",
       "      <td>1.69</td>\n",
       "      <td>0.00</td>\n",
       "      <td>1</td>\n",
       "      <td>0.000000</td>\n",
       "      <td>0.000000</td>\n",
       "      <td>0.00</td>\n",
       "      <td>0</td>\n",
       "    </tr>\n",
       "  </tbody>\n",
       "</table>\n",
       "</div>"
      ],
      "text/plain": [
       "   WeekofPurchase  StoreID  PriceCH  ...  PctDiscCH  ListPriceDiff  STORE\n",
       "0             237        1     1.75  ...   0.000000           0.24      1\n",
       "1             239        1     1.75  ...   0.000000           0.24      1\n",
       "2             245        1     1.86  ...   0.091398           0.23      1\n",
       "3             227        1     1.69  ...   0.000000           0.00      1\n",
       "4             228        7     1.69  ...   0.000000           0.00      0\n",
       "\n",
       "[5 rows x 17 columns]"
      ]
     },
     "execution_count": 2,
     "metadata": {
      "tags": []
     },
     "output_type": "execute_result"
    }
   ],
   "source": [
    "# memisah x dengan y dan mengonversikan data biner yang masih berupa string ke 0 dan 1\n",
    "\n",
    "x = juice.drop(['Id', 'Purchase'], axis = 1)\n",
    "for i in range(len(juice)):\n",
    "    if juice.Store7[i] == 'Yes':\n",
    "        x.Store7[i] = 1\n",
    "    else:\n",
    "        x.Store7[i] = 0\n",
    "        \n",
    "y = []\n",
    "for i in range(len(juice)):\n",
    "    if juice.Purchase[i] == 'CH':\n",
    "        y.append(0)\n",
    "    else:\n",
    "        y.append(1)\n",
    "x.head()"
   ]
  },
  {
   "cell_type": "code",
   "execution_count": 3,
   "metadata": {
    "id": "qmMkiiWCKlQR"
   },
   "outputs": [],
   "source": [
    "# split data\n",
    "\n",
    "from sklearn.model_selection import train_test_split\n",
    "\n",
    "x_train, x_test, y_train, y_test = train_test_split(x, y, test_size=0.3)"
   ]
  },
  {
   "cell_type": "markdown",
   "metadata": {
    "id": "--fPJ75q4o-z"
   },
   "source": [
    "### 1. Model SVM trained using default hyperparameter. \n"
   ]
  },
  {
   "cell_type": "code",
   "execution_count": 4,
   "metadata": {
    "colab": {
     "base_uri": "https://localhost:8080/"
    },
    "id": "1VvefpmGKtwX",
    "outputId": "8d19fb42-6c6e-4177-957b-d807e2e47899"
   },
   "outputs": [
    {
     "name": "stdout",
     "output_type": "stream",
     "text": [
      "Accuracy for SVM with default hyperparameter =  0.5950155763239875\n"
     ]
    }
   ],
   "source": [
    "# SVM dengan default hyperparameter\n",
    "\n",
    "from sklearn.model_selection import cross_val_score\n",
    "from sklearn.svm import SVC\n",
    "\n",
    "clf1 = SVC()\n",
    "clf1.fit(x_train, y_train)\n",
    "clf1_acc = clf1.score(x_test, y_test)\n",
    "print('Accuracy for SVM with default hyperparameter = ', clf1_acc)"
   ]
  },
  {
   "cell_type": "markdown",
   "metadata": {
    "id": "jIs-x6_24uTN"
   },
   "source": [
    "### 2. Model SVM trained and tuned using GridSearchCV."
   ]
  },
  {
   "cell_type": "code",
   "execution_count": 5,
   "metadata": {
    "id": "Wl3g1oguK33p"
   },
   "outputs": [],
   "source": [
    "# SVM dengan GridSearchCV\n",
    "\n",
    "from sklearn.model_selection import GridSearchCV\n",
    "\n",
    "space = dict()\n",
    "space['C'] = [0.01, 0.1, 1]\n",
    "space['kernel'] = ['linear', 'poly']\n",
    "clf2 = GridSearchCV(clf1, space, scoring='accuracy', n_jobs=-1)"
   ]
  },
  {
   "cell_type": "code",
   "execution_count": 6,
   "metadata": {
    "colab": {
     "base_uri": "https://localhost:8080/"
    },
    "id": "zl9NeuSU_vxi",
    "outputId": "66c64b76-1d49-4c13-b09f-3ad0245841fa"
   },
   "outputs": [
    {
     "name": "stdout",
     "output_type": "stream",
     "text": [
      "Best Score: 0.8291275167785235\n",
      "Best Hyperparameters: {'C': 1, 'kernel': 'linear'}\n"
     ]
    }
   ],
   "source": [
    "clf2.fit(x_train, y_train)\n",
    "print('Best Score: %s' % clf2.best_score_)\n",
    "print('Best Hyperparameters: %s' % clf2.best_params_)"
   ]
  },
  {
   "cell_type": "code",
   "execution_count": 7,
   "metadata": {
    "colab": {
     "base_uri": "https://localhost:8080/"
    },
    "id": "bFbzRMevAL3J",
    "outputId": "0926a34f-c63d-4365-9863-97278f8ec4b8"
   },
   "outputs": [
    {
     "name": "stdout",
     "output_type": "stream",
     "text": [
      "Accuracy for SVM with GridSearchCV =  0.8255451713395638\n"
     ]
    }
   ],
   "source": [
    "clf2_acc = clf2.score(x_test, y_test)\n",
    "print('Accuracy for SVM with GridSearchCV = ', clf2_acc)"
   ]
  },
  {
   "cell_type": "markdown",
   "metadata": {
    "id": "9eFRVmJx4zMB"
   },
   "source": [
    "### 3. Model SVM trained and tuned using RandomSearchCV."
   ]
  },
  {
   "cell_type": "code",
   "execution_count": 8,
   "metadata": {
    "id": "S0F0JEZo44PG"
   },
   "outputs": [],
   "source": [
    "# SVM dengan RandomSearchCV\n",
    "\n",
    "from sklearn.model_selection import RandomizedSearchCV\n",
    "from scipy.stats import loguniform\n",
    "\n",
    "space = dict()\n",
    "space['C'] = loguniform(0.01, 1)\n",
    "space['kernel'] = ['linear', 'poly']\n",
    "clf3 = RandomizedSearchCV(clf1, space, n_iter=200, scoring='accuracy', n_jobs=-1, random_state=1)"
   ]
  },
  {
   "cell_type": "code",
   "execution_count": 9,
   "metadata": {
    "colab": {
     "base_uri": "https://localhost:8080/"
    },
    "id": "oVx6m64fgHf_",
    "outputId": "8c5155b0-2671-4f94-8114-98b345adb129"
   },
   "outputs": [
    {
     "name": "stdout",
     "output_type": "stream",
     "text": [
      "Best Score: 0.8318031319910514\n",
      "Best Hyperparameters: {'C': 0.6620591065093844, 'kernel': 'linear'}\n"
     ]
    }
   ],
   "source": [
    "clf3.fit(x_train, y_train)\n",
    "print('Best Score: %s' % clf3.best_score_)\n",
    "print('Best Hyperparameters: %s' % clf3.best_params_)"
   ]
  },
  {
   "cell_type": "code",
   "execution_count": 10,
   "metadata": {
    "colab": {
     "base_uri": "https://localhost:8080/"
    },
    "id": "NUfvdF4pgjvf",
    "outputId": "9eb6bb1a-f59a-415e-cc4e-63509f899499"
   },
   "outputs": [
    {
     "name": "stdout",
     "output_type": "stream",
     "text": [
      "Accuracy for SVM with RandomizedSearchCV =  0.822429906542056\n"
     ]
    }
   ],
   "source": [
    "clf3_acc = clf3.score(x_test, y_test)\n",
    "print('Accuracy for SVM with RandomizedSearchCV = ', clf3_acc)"
   ]
  },
  {
   "cell_type": "markdown",
   "metadata": {
    "id": "lGop7AUP41T8"
   },
   "source": [
    "### 4. Model SVM trained and tuned using Bayesian Optimization (available in Scikit-optimize library)."
   ]
  },
  {
   "cell_type": "code",
   "execution_count": 11,
   "metadata": {
    "id": "anB1Re4944vv"
   },
   "outputs": [],
   "source": [
    "# SVM dengan Bayesian Optimization\n",
    "\n",
    "from skopt import BayesSearchCV\n",
    "from skopt.space import Real, Categorical\n",
    "\n",
    "space = dict()\n",
    "space['C'] = Real(0.01, 1, prior='log-uniform')\n",
    "space['kernel'] = Categorical(['linear', 'poly'])\n",
    "clf4 = BayesSearchCV(clf1, space, n_iter=200, scoring='accuracy', random_state=1)"
   ]
  },
  {
   "cell_type": "code",
   "execution_count": 12,
   "metadata": {
    "colab": {
     "base_uri": "https://localhost:8080/"
    },
    "id": "2GEqCE_CKCpi",
    "outputId": "f546bade-90d7-4fa3-959c-2d723b687570"
   },
   "outputs": [
    {
     "name": "stderr",
     "output_type": "stream",
     "text": [
      "/usr/local/lib/python3.6/dist-packages/skopt/optimizer/optimizer.py:449: UserWarning: The objective has been evaluated at this point before.\n",
      "  warnings.warn(\"The objective has been evaluated \"\n"
     ]
    },
    {
     "name": "stdout",
     "output_type": "stream",
     "text": [
      "Best Score: 0.8317757009345794\n",
      "Best Hyperparameters: OrderedDict([('C', 0.45214395181090716), ('kernel', 'linear')])\n"
     ]
    }
   ],
   "source": [
    "clf4.fit(x_train, y_train)\n",
    "print('Best Score: %s' % clf4.best_score_)\n",
    "print('Best Hyperparameters: %s' % clf4.best_params_)"
   ]
  },
  {
   "cell_type": "code",
   "execution_count": 13,
   "metadata": {
    "colab": {
     "base_uri": "https://localhost:8080/"
    },
    "id": "hzokXRGftnIp",
    "outputId": "c2858f12-c2a9-4325-ef0e-cf033805425a"
   },
   "outputs": [
    {
     "name": "stdout",
     "output_type": "stream",
     "text": [
      "Accuracy for SVM with Bayesian Optimization =  0.8255451713395638\n"
     ]
    }
   ],
   "source": [
    "clf4_acc = clf4.score(x_test, y_test)\n",
    "print('Accuracy for SVM with Bayesian Optimization = ', clf4_acc)"
   ]
  },
  {
   "cell_type": "markdown",
   "metadata": {
    "id": "yPJp_UTO1Vob"
   },
   "source": [
    " ### Kesimpulan: \n",
    "Akurasi dengan menggunakan default hyperparameter : **0.5950155763239875** <br/>\n",
    "Akurasi dengan GridSearchCV : **0.8255451713395638** <br/>\n",
    "Akurasi dengan RandomSearchCV : **0.822429906542056** <br/>\n",
    "Akurasi dengan Bayesian Optimization : **0.8255451713395638** <br/> \n",
    "\n",
    "Akurasi terbaik didapatkan dengan menggunakan tuning **GridSearchCV dan Bayesian Optimization** walaupun dengan selisih akurasi yang sedikit dengan tuning menggunakan RandomSearchCV."
   ]
  }
 ],
 "metadata": {
  "colab": {
   "collapsed_sections": [],
   "name": "Tugas 3 DMBI.ipynb",
   "provenance": [],
   "toc_visible": true
  },
  "kernelspec": {
   "display_name": "Python 3",
   "language": "python",
   "name": "python3"
  },
  "language_info": {
   "codemirror_mode": {
    "name": "ipython",
    "version": 3
   },
   "file_extension": ".py",
   "mimetype": "text/x-python",
   "name": "python",
   "nbconvert_exporter": "python",
   "pygments_lexer": "ipython3",
   "version": "3.8.3"
  }
 },
 "nbformat": 4,
 "nbformat_minor": 1
}
